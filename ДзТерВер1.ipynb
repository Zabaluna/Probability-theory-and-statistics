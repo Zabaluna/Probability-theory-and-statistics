{
  "nbformat": 4,
  "nbformat_minor": 0,
  "metadata": {
    "colab": {
      "provenance": [],
      "authorship_tag": "ABX9TyPXj49qRbzUJNwYiPLnCcxn",
      "include_colab_link": true
    },
    "kernelspec": {
      "name": "python3",
      "display_name": "Python 3"
    },
    "language_info": {
      "name": "python"
    }
  },
  "cells": [
    {
      "cell_type": "markdown",
      "metadata": {
        "id": "view-in-github",
        "colab_type": "text"
      },
      "source": [
        "<a href=\"https://colab.research.google.com/github/Zabaluna/Probability-theory-and-statistics/blob/main/%D0%94%D0%B7%D0%A2%D0%B5%D1%80%D0%92%D0%B5%D1%801.ipynb\" target=\"_parent\"><img src=\"https://colab.research.google.com/assets/colab-badge.svg\" alt=\"Open In Colab\"/></a>"
      ]
    },
    {
      "cell_type": "markdown",
      "source": [
        "# **Домашнняя работа к семинару 1. Теория вероятность и математическая статистика:-)**"
      ],
      "metadata": {
        "id": "6ICFV1yk2zgC"
      }
    },
    {
      "cell_type": "markdown",
      "source": [
        "# **Задача 1**\n",
        "Из колоды в 52 карты извлекаются случайным образом 4 карты. a) Найти вероятность того, что все карты – крести. б) Найти вероятность, что среди 4-х карт окажется хотя бы один туз. \n"
      ],
      "metadata": {
        "id": "ncLUQccLwy3R"
      }
    },
    {
      "cell_type": "markdown",
      "source": [
        "**a)**52 карты делим на 4 масти и получаем по 13 карт каждой масти. Ищем комбинаторикой через формулу сочетание: сколько вариантов крестовых карт может быть вытащено, используя при использловании 4х карт. Получем 715 раз по формуле внизу. Это будет число благоприятных исходов = m"
      ],
      "metadata": {
        "id": "Xk4VtaUk0n0B"
      }
    },
    {
      "cell_type": "code",
      "source": [
        "import math\n",
        "from math import factorial\n",
        "math.factorial(13)/(math.factorial(4)*math.factorial(9))\n"
      ],
      "metadata": {
        "colab": {
          "base_uri": "https://localhost:8080/"
        },
        "id": "XqDJJzXmw2fS",
        "outputId": "2d05ff1d-9681-4339-bbac-eb9a9c1e7c0c"
      },
      "execution_count": 2,
      "outputs": [
        {
          "output_type": "execute_result",
          "data": {
            "text/plain": [
              "715.0"
            ]
          },
          "metadata": {},
          "execution_count": 2
        }
      ]
    },
    {
      "cell_type": "markdown",
      "source": [
        "Теперь рассчитываем общее число исходов = n. Берем все 52 карты колоды и извлекаем 4 случайные карты. Так же сочетанием по формуле. Рассчет ниже:"
      ],
      "metadata": {
        "id": "BaFNhv2t1a1S"
      }
    },
    {
      "cell_type": "code",
      "source": [
        "import math\n",
        "from math import factorial\n",
        "math.factorial(52)/(math.factorial(4)*math.factorial(48))"
      ],
      "metadata": {
        "colab": {
          "base_uri": "https://localhost:8080/"
        },
        "id": "1V-XPdyw2Glo",
        "outputId": "2f12c282-bdf2-4fa3-f769-38e7d620304b"
      },
      "execution_count": 7,
      "outputs": [
        {
          "output_type": "execute_result",
          "data": {
            "text/plain": [
              "270725.0"
            ]
          },
          "metadata": {},
          "execution_count": 7
        }
      ]
    },
    {
      "cell_type": "markdown",
      "source": [
        "Подставляем в формула вероятности P(A)= m/n наши числа и получаем, вероятность того, что наши карты будут крести"
      ],
      "metadata": {
        "id": "3c6if96a9Pmq"
      }
    },
    {
      "cell_type": "code",
      "source": [
        "m = 715\n",
        "n = 270725\n",
        "p = m/n\n",
        "print(round(p,4))"
      ],
      "metadata": {
        "colab": {
          "base_uri": "https://localhost:8080/"
        },
        "id": "Uxvm2lMM-TlC",
        "outputId": "e729b443-88fd-4eb3-a9d4-ff91ead00566"
      },
      "execution_count": 14,
      "outputs": [
        {
          "output_type": "stream",
          "name": "stdout",
          "text": [
            "0.0026\n"
          ]
        }
      ]
    },
    {
      "cell_type": "markdown",
      "source": [
        "0,26% вероятность вытащить все крести"
      ],
      "metadata": {
        "id": "6nPcoo060mfj"
      }
    },
    {
      "cell_type": "markdown",
      "source": [
        "**б)**Теперь рассчитываем вероятность того, что из 4х карт хотя бы 1 будет туз. Рассматриваем, когда достали 3 не туза, потом 2 не туза, потом 1 не туз. И дальше рассматриваем, когда достали 1 туз, потом 2 туза, потом 3 туза, потом все 4 туза ( только 1 способом). перемножаем, это и будет являться нашим m- благоприятным числом исходов."
      ],
      "metadata": {
        "id": "9D_AM4SC_kjR"
      }
    },
    {
      "cell_type": "code",
      "source": [
        "import math\n",
        "from math import factorial\n",
        "a = math.factorial(48)/(math.factorial(3)*math.factorial(45))\n",
        "print(a)"
      ],
      "metadata": {
        "colab": {
          "base_uri": "https://localhost:8080/"
        },
        "id": "UPiUWSd-_0nC",
        "outputId": "73563117-7f84-42b6-b09a-d6d98cd6c8d7"
      },
      "execution_count": 9,
      "outputs": [
        {
          "output_type": "stream",
          "name": "stdout",
          "text": [
            "17296.0\n"
          ]
        }
      ]
    },
    {
      "cell_type": "code",
      "source": [
        "import math\n",
        "from math import factorial\n",
        "b = math.factorial(4)/(math.factorial(1)*math.factorial(3))\n",
        "print(b)"
      ],
      "metadata": {
        "colab": {
          "base_uri": "https://localhost:8080/"
        },
        "id": "y_tLoXbVBr2K",
        "outputId": "7924c7e4-6a7e-4c75-d443-d5a53c7f9f0e"
      },
      "execution_count": 21,
      "outputs": [
        {
          "output_type": "stream",
          "name": "stdout",
          "text": [
            "4.0\n"
          ]
        }
      ]
    },
    {
      "cell_type": "code",
      "source": [
        "import math\n",
        "from math import factorial\n",
        "c = math.factorial(48)/(math.factorial(2)*math.factorial(46))\n",
        "print(c)"
      ],
      "metadata": {
        "colab": {
          "base_uri": "https://localhost:8080/"
        },
        "id": "pYcTy9yaBhDT",
        "outputId": "3d6a7bef-fca4-4bd0-8ca4-fbbee5032e84"
      },
      "execution_count": 11,
      "outputs": [
        {
          "output_type": "stream",
          "name": "stdout",
          "text": [
            "1128.0\n"
          ]
        }
      ]
    },
    {
      "cell_type": "code",
      "source": [
        "import math\n",
        "from math import factorial\n",
        "d = math.factorial(4)/(math.factorial(2)*math.factorial(2))\n",
        "print(d)"
      ],
      "metadata": {
        "colab": {
          "base_uri": "https://localhost:8080/"
        },
        "id": "71VX0gDyvXB8",
        "outputId": "9cdf66bc-bd68-4feb-f934-19a37cd778e8"
      },
      "execution_count": 12,
      "outputs": [
        {
          "output_type": "stream",
          "name": "stdout",
          "text": [
            "6.0\n"
          ]
        }
      ]
    },
    {
      "cell_type": "code",
      "source": [
        "import math\n",
        "from math import factorial\n",
        "e = math.factorial(48)/(math.factorial(1)*math.factorial(47))\n",
        "print(e)"
      ],
      "metadata": {
        "colab": {
          "base_uri": "https://localhost:8080/"
        },
        "id": "r4n4IqQgBnzK",
        "outputId": "de705995-9327-41c1-ecf0-ab6361f87c03"
      },
      "execution_count": 13,
      "outputs": [
        {
          "output_type": "stream",
          "name": "stdout",
          "text": [
            "48.0\n"
          ]
        }
      ]
    },
    {
      "cell_type": "code",
      "source": [
        "import math\n",
        "from math import factorial\n",
        "f = math.factorial(4)/(math.factorial(3)*math.factorial(1))\n",
        "print(f)"
      ],
      "metadata": {
        "colab": {
          "base_uri": "https://localhost:8080/"
        },
        "id": "wAn8q0Qhv5fM",
        "outputId": "90aa946e-7ec8-4aee-cbb9-87a5258ee263"
      },
      "execution_count": 14,
      "outputs": [
        {
          "output_type": "stream",
          "name": "stdout",
          "text": [
            "4.0\n"
          ]
        }
      ]
    },
    {
      "cell_type": "code",
      "source": [
        "m = (a*b) + (c*d) + (e*f) + 1\n",
        "print(m)"
      ],
      "metadata": {
        "colab": {
          "base_uri": "https://localhost:8080/"
        },
        "id": "FkSH4u5XwJW7",
        "outputId": "09370e47-f772-4a8a-aad1-f37c1449b4ff"
      },
      "execution_count": 20,
      "outputs": [
        {
          "output_type": "stream",
          "name": "stdout",
          "text": [
            "76145.0\n"
          ]
        }
      ]
    },
    {
      "cell_type": "code",
      "source": [
        "m = 76145\n",
        "n = 270725\n",
        "p = m/n\n",
        "print(round(p,4))"
      ],
      "metadata": {
        "colab": {
          "base_uri": "https://localhost:8080/"
        },
        "id": "xIKUtm0ZuQsb",
        "outputId": "4e7213b1-be6d-401a-a1e8-e5a444c8e5ef"
      },
      "execution_count": 22,
      "outputs": [
        {
          "output_type": "stream",
          "name": "stdout",
          "text": [
            "0.2813\n"
          ]
        }
      ]
    },
    {
      "cell_type": "markdown",
      "source": [
        "28% вероятность вытащить вытащить хотя бы 1 туз"
      ],
      "metadata": {
        "id": "hJvxBZ7M0bXu"
      }
    },
    {
      "cell_type": "markdown",
      "source": [
        "# **Задача 3**\n",
        "В ящике имеется 15 деталей, из которых 9 окрашены. Рабочий случайным образом извлекает 3 детали. Какова вероятность того, что все извлеченные детали окрашены?"
      ],
      "metadata": {
        "id": "Kjz54e9_1Vaj"
      }
    },
    {
      "cell_type": "markdown",
      "source": [
        "Мы используем формулу вероятности P(A)= m/n. Считаем наши m и n. m = число благоприятных исходов (3 из 9), а n = общее число попыток (3 из 15)"
      ],
      "metadata": {
        "id": "E89zqLTu16_s"
      }
    },
    {
      "cell_type": "code",
      "source": [
        "from math import factorial\n",
        "def combination(n, k):\n",
        "    return int(factorial(n) / (factorial(k) * factorial(n - k))) "
      ],
      "metadata": {
        "id": "yUD4XPug2iZc"
      },
      "execution_count": 5,
      "outputs": []
    },
    {
      "cell_type": "code",
      "source": [
        "m=combination(9, 3)\n",
        "print(f'm = {m}')"
      ],
      "metadata": {
        "colab": {
          "base_uri": "https://localhost:8080/"
        },
        "id": "gi4FfU0J3MAL",
        "outputId": "46b57cb9-f61d-419b-d971-728b5726da1c"
      },
      "execution_count": 6,
      "outputs": [
        {
          "output_type": "stream",
          "name": "stdout",
          "text": [
            "m = 84\n"
          ]
        }
      ]
    },
    {
      "cell_type": "code",
      "source": [
        "n=combination(15, 3)\n",
        "print(f'n = {n}')"
      ],
      "metadata": {
        "colab": {
          "base_uri": "https://localhost:8080/"
        },
        "id": "WWUnmv3Q3UpL",
        "outputId": "9e897609-3b57-46e4-c39f-b353a2e7a896"
      },
      "execution_count": 7,
      "outputs": [
        {
          "output_type": "stream",
          "name": "stdout",
          "text": [
            "n = 455\n"
          ]
        }
      ]
    },
    {
      "cell_type": "code",
      "source": [
        "p = m/n\n",
        "print(p)"
      ],
      "metadata": {
        "colab": {
          "base_uri": "https://localhost:8080/"
        },
        "id": "LlrZxcPg4hG8",
        "outputId": "8059c45b-b3a1-41f5-fe69-36adc3b2c0a3"
      },
      "execution_count": 8,
      "outputs": [
        {
          "output_type": "stream",
          "name": "stdout",
          "text": [
            "0.18461538461538463\n"
          ]
        }
      ]
    },
    {
      "cell_type": "markdown",
      "source": [
        "18% процентов вероятность вытащить окрашенные детали"
      ],
      "metadata": {
        "id": "fVWFMk3V4ogU"
      }
    },
    {
      "cell_type": "markdown",
      "source": [
        "# **Задача 4**\n",
        "В лотерее 100 билетов. Из них 2 выигрышных. Какова вероятность того, что 2 приобретенных билета окажутся выигрышными?"
      ],
      "metadata": {
        "id": "vR4B8AuM48zF"
      }
    },
    {
      "cell_type": "markdown",
      "source": [
        "Мы используем формулу вероятности P(A)= m/n. Считаем наши m и n. m=1 это наше число благоприятных исходов. Рассчитываем n по формуле комбинаторики (2 из 100) сочетания и подставляем в итоговую формулу P(A)= m/n"
      ],
      "metadata": {
        "id": "1LKkFcJJ9OGi"
      }
    },
    {
      "cell_type": "code",
      "source": [
        "n=combination(100, 2)\n",
        "print(f'n = {n}')"
      ],
      "metadata": {
        "colab": {
          "base_uri": "https://localhost:8080/"
        },
        "id": "7tG80yEZ9l50",
        "outputId": "7467c453-8273-42b1-bc60-0916e61c5938"
      },
      "execution_count": 9,
      "outputs": [
        {
          "output_type": "stream",
          "name": "stdout",
          "text": [
            "n = 4950\n"
          ]
        }
      ]
    },
    {
      "cell_type": "code",
      "source": [
        "m=1\n",
        "print(m)"
      ],
      "metadata": {
        "colab": {
          "base_uri": "https://localhost:8080/"
        },
        "id": "uuaFpR_N9t4j",
        "outputId": "61b01a59-d7a8-43a6-a647-56b3169d1b53"
      },
      "execution_count": 36,
      "outputs": [
        {
          "output_type": "stream",
          "name": "stdout",
          "text": [
            "1\n"
          ]
        }
      ]
    },
    {
      "cell_type": "markdown",
      "source": [],
      "metadata": {
        "id": "u8NwizsB2iqq"
      }
    },
    {
      "cell_type": "code",
      "source": [
        "p = m/n\n",
        "print(p)"
      ],
      "metadata": {
        "colab": {
          "base_uri": "https://localhost:8080/"
        },
        "id": "uvhiEIUx9xgD",
        "outputId": "27ba72d2-8ddd-40c7-db3b-385c0d9f2035"
      },
      "execution_count": 37,
      "outputs": [
        {
          "output_type": "stream",
          "name": "stdout",
          "text": [
            "0.00020202020202020202\n"
          ]
        }
      ]
    },
    {
      "cell_type": "markdown",
      "source": [
        "Вероятность того, что 2 билета из 100 окажутся выигрышными равна 0,02%"
      ],
      "metadata": {
        "id": "5cJ2PCmN-GxC"
      }
    },
    {
      "cell_type": "markdown",
      "source": [
        "## **Задача 2**\n",
        "На входной двери подъезда установлен кодовый замок, содержащий десять кнопок с цифрами от 0 до 9. Код содержит три цифры, которые нужно нажать одновременно. Какова вероятность того, что человек, не знающий код, откроет дверь с первой попытки?"
      ],
      "metadata": {
        "id": "EnByHRVx-xq8"
      }
    },
    {
      "cell_type": "markdown",
      "source": [
        "Мы используем формулу вероятности P(A)= m/n. Считаем наши m и n. m=1 тк открывать будем с первой попытки. Рассчитываем n по формуле комбинаторики сочетания ( тут 3 кнопки из 10 кнопок) и подставляем в итоговую формулу P(A)= m/n"
      ],
      "metadata": {
        "id": "WJWcpD-e0ynR"
      }
    },
    {
      "cell_type": "code",
      "source": [
        "n=combination(10, 3)\n",
        "print(f'n = {n}')"
      ],
      "metadata": {
        "colab": {
          "base_uri": "https://localhost:8080/"
        },
        "id": "5U0r05R11CLK",
        "outputId": "4c9a0524-d679-4f39-96c4-892544838bdd"
      },
      "execution_count": 10,
      "outputs": [
        {
          "output_type": "stream",
          "name": "stdout",
          "text": [
            "n = 120\n"
          ]
        }
      ]
    },
    {
      "cell_type": "code",
      "source": [
        "m=1\n",
        "print(m)"
      ],
      "metadata": {
        "colab": {
          "base_uri": "https://localhost:8080/"
        },
        "id": "NbnO5QBa1RmQ",
        "outputId": "42d1d803-bce9-4435-bfc1-0acc132eecab"
      },
      "execution_count": 11,
      "outputs": [
        {
          "output_type": "stream",
          "name": "stdout",
          "text": [
            "1\n"
          ]
        }
      ]
    },
    {
      "cell_type": "code",
      "source": [
        "p = m/n\n",
        "print(p)"
      ],
      "metadata": {
        "colab": {
          "base_uri": "https://localhost:8080/"
        },
        "id": "UfBfQlHD1V3y",
        "outputId": "02350a0f-5a32-4add-8c6e-a5c077239282"
      },
      "execution_count": 12,
      "outputs": [
        {
          "output_type": "stream",
          "name": "stdout",
          "text": [
            "0.008333333333333333\n"
          ]
        }
      ]
    },
    {
      "cell_type": "markdown",
      "source": [
        "0,83% вероятность с первого раза открыть дверь"
      ],
      "metadata": {
        "id": "lP0hwg0v1Yoh"
      }
    }
  ]
}