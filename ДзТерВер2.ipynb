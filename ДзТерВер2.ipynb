{
  "nbformat": 4,
  "nbformat_minor": 0,
  "metadata": {
    "colab": {
      "provenance": [],
      "authorship_tag": "ABX9TyO583qm4SNqwM+DSvrFj74P",
      "include_colab_link": true
    },
    "kernelspec": {
      "name": "python3",
      "display_name": "Python 3"
    },
    "language_info": {
      "name": "python"
    }
  },
  "cells": [
    {
      "cell_type": "markdown",
      "metadata": {
        "id": "view-in-github",
        "colab_type": "text"
      },
      "source": [
        "<a href=\"https://colab.research.google.com/github/Zabaluna/Probability-theory-and-statistics/blob/main/%D0%94%D0%B7%D0%A2%D0%B5%D1%80%D0%92%D0%B5%D1%802.ipynb\" target=\"_parent\"><img src=\"https://colab.research.google.com/assets/colab-badge.svg\" alt=\"Open In Colab\"/></a>"
      ]
    },
    {
      "cell_type": "markdown",
      "source": [
        "Урок 2. Дискретные распределения вероятностей"
      ],
      "metadata": {
        "id": "LWyRF43x7ik5"
      }
    },
    {
      "cell_type": "markdown",
      "source": [
        "# Задача 1\n",
        "Вероятность того, что стрелок попадет в мишень, выстрелив один раз, равна 0.8. Стрелок выстрелил 100 раз. Найдите вероятность того, что стрелок попадет в цель ровно 85 раз.\n"
      ],
      "metadata": {
        "id": "cE4H7SLG7kww"
      }
    },
    {
      "cell_type": "code",
      "source": [
        "from math import *\n",
        "def combination(n, k):\n",
        "    return int(factorial(n) / (factorial(k) * factorial(n - k))) "
      ],
      "metadata": {
        "id": "mbiF7s828yQG"
      },
      "execution_count": 20,
      "outputs": []
    },
    {
      "cell_type": "code",
      "source": [
        "def puasson(l,m):\n",
        "  return (l**m/factorial(m))*e**(-l)"
      ],
      "metadata": {
        "id": "w7yQA6NJ87ls"
      },
      "execution_count": 16,
      "outputs": []
    },
    {
      "cell_type": "code",
      "source": [
        "def bernulli(n,k,p):\n",
        "  return (factorial(n)/(factorial(k)*(factorial(n-k)))*p**k*(1-p)**(n-k))"
      ],
      "metadata": {
        "id": "RAWD-nQa-NWu"
      },
      "execution_count": 6,
      "outputs": []
    },
    {
      "cell_type": "markdown",
      "source": [
        "k= 85\n",
        "p= 0.8 \n",
        "n = 100\n",
        "\n"
      ],
      "metadata": {
        "id": "LEbWGmvW-QbY"
      }
    },
    {
      "cell_type": "code",
      "source": [
        "print(f'{bernulli(100,85,0.8):.4f}')"
      ],
      "metadata": {
        "colab": {
          "base_uri": "https://localhost:8080/"
        },
        "id": "Y-MPiV1oCqgP",
        "outputId": "d58f9723-d73d-464c-b95c-788079bd49f8"
      },
      "execution_count": 8,
      "outputs": [
        {
          "output_type": "stream",
          "name": "stdout",
          "text": [
            "0.0481\n"
          ]
        }
      ]
    },
    {
      "cell_type": "markdown",
      "source": [
        "# Задача 2\n",
        "Вероятность того, что лампочка перегорит в течение первого дня эксплуатации, равна 0.0004. В жилом комплексе после ремонта в один день включили 5000 новых лампочек. Какова вероятность, что ни одна из них не перегорит в первый день? Какова вероятность, что перегорят ровно две?\n"
      ],
      "metadata": {
        "id": "vKWJEfhD7uLa"
      }
    },
    {
      "cell_type": "code",
      "source": [
        "print(f'{bernulli(5000,0,0.0004):.4f}')"
      ],
      "metadata": {
        "colab": {
          "base_uri": "https://localhost:8080/"
        },
        "id": "ScEG8ULkDc1a",
        "outputId": "e2a33830-72e0-4a67-9001-8bae897ecfb0"
      },
      "execution_count": 11,
      "outputs": [
        {
          "output_type": "stream",
          "name": "stdout",
          "text": [
            "0.1353\n"
          ]
        }
      ]
    },
    {
      "cell_type": "code",
      "source": [
        "print(f'{bernulli(5000,0,0.0004):.4f}')"
      ],
      "metadata": {
        "colab": {
          "base_uri": "https://localhost:8080/"
        },
        "id": "UzKmcxaIEAcz",
        "outputId": "712183be-d670-4c1f-d6bd-30c5c956b8b9"
      },
      "execution_count": 12,
      "outputs": [
        {
          "output_type": "stream",
          "name": "stdout",
          "text": [
            "0.2707\n"
          ]
        }
      ]
    },
    {
      "cell_type": "code",
      "source": [
        "l= 5000*0.0004\n",
        "print(f'{puasson(l,0):.4f}')\n",
        "print(f'{puasson(l,2):.4f}')"
      ],
      "metadata": {
        "colab": {
          "base_uri": "https://localhost:8080/"
        },
        "id": "LlpeP-nAEPxi",
        "outputId": "d954977c-8134-40d5-d419-ba76de7c4777"
      },
      "execution_count": 18,
      "outputs": [
        {
          "output_type": "stream",
          "name": "stdout",
          "text": [
            "0.1353\n",
            "0.2707\n"
          ]
        }
      ]
    },
    {
      "cell_type": "markdown",
      "source": [
        "# Задача 3\n",
        "Монету подбросили 144 раза. Какова вероятность, что орел выпадет ровно 70 раз?"
      ],
      "metadata": {
        "id": "15oAf6y47yMC"
      }
    },
    {
      "cell_type": "code",
      "source": [
        "print(f'{bernulli(144,70,0.5):.4f}')"
      ],
      "metadata": {
        "colab": {
          "base_uri": "https://localhost:8080/"
        },
        "id": "-MhXEbLcF4vc",
        "outputId": "2d637357-b39b-499f-ccf1-b7f7e7d75257"
      },
      "execution_count": 19,
      "outputs": [
        {
          "output_type": "stream",
          "name": "stdout",
          "text": [
            "0.0628\n"
          ]
        }
      ]
    },
    {
      "cell_type": "markdown",
      "source": [
        "# Задача 4\n",
        "В первом ящике находится 10 мячей, из которых 7 - белые. Во втором ящике - 11 мячей, из которых 9 белых. Из каждого ящика вытаскивают случайным образом по два мяча. Какова вероятность того, что все мячи белые? \n",
        "Какова вероятность того, что ровно два мяча белые? \n",
        "Какова вероятность того, что хотя бы один мяч белый?"
      ],
      "metadata": {
        "id": "9ult0fab76Wo"
      }
    },
    {
      "cell_type": "code",
      "source": [
        "print(f'{combination(7,2)/combination(10,2)*combination(9,2)/combination(11,2):.4f}')\n",
        "\n"
      ],
      "metadata": {
        "colab": {
          "base_uri": "https://localhost:8080/"
        },
        "id": "ZGuZFDuDHAIe",
        "outputId": "7ade1282-7d15-40bd-e3b1-04ce7b3d5f86"
      },
      "execution_count": 35,
      "outputs": [
        {
          "output_type": "stream",
          "name": "stdout",
          "text": [
            "0.3055\n"
          ]
        }
      ]
    },
    {
      "cell_type": "code",
      "source": [
        "print(f'{combination(7,2)/combination(10,2)*combination(2,2)/combination(11,2):.4f}')\n",
        "\n",
        "print(f'{combination(7,1)/combination(10,1)*combination(9,1)/combination(11,1)*combination(3,1)/combination(9,1)*combination(2,1)/combination(10,1):.4f}')\n",
        "\n",
        "print(f'{combination(7,2)/combination(10,2)*combination(2,2)/combination(11,2):.4f}')\n",
        "\n",
        "print(0.0085+0.0382*4+0.0436)"
      ],
      "metadata": {
        "colab": {
          "base_uri": "https://localhost:8080/"
        },
        "id": "K7hxVv61NNKS",
        "outputId": "0c1682a3-1744-49cf-a9ea-56e0f2a25831"
      },
      "execution_count": 40,
      "outputs": [
        {
          "output_type": "stream",
          "name": "stdout",
          "text": [
            "0.0085\n",
            "0.0382\n",
            "0.0436\n",
            "0.2049\n"
          ]
        }
      ]
    },
    {
      "cell_type": "code",
      "source": [
        "\n",
        "print(f'{1-(combination(3,2)/combination(10,2)*combination(2,2)/combination(11,2)):.4f}')"
      ],
      "metadata": {
        "colab": {
          "base_uri": "https://localhost:8080/"
        },
        "id": "aFrIY385QPTV",
        "outputId": "d6994e86-26f9-4347-b138-b95a36fc1344"
      },
      "execution_count": 41,
      "outputs": [
        {
          "output_type": "stream",
          "name": "stdout",
          "text": [
            "0.9988\n"
          ]
        }
      ]
    }
  ]
}