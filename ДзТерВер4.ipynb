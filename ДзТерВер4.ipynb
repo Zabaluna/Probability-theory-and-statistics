{
  "nbformat": 4,
  "nbformat_minor": 0,
  "metadata": {
    "colab": {
      "provenance": [],
      "authorship_tag": "ABX9TyOAHTOGsTg5dhjm9OHjXrK1",
      "include_colab_link": true
    },
    "kernelspec": {
      "name": "python3",
      "display_name": "Python 3"
    },
    "language_info": {
      "name": "python"
    }
  },
  "cells": [
    {
      "cell_type": "markdown",
      "metadata": {
        "id": "view-in-github",
        "colab_type": "text"
      },
      "source": [
        "<a href=\"https://colab.research.google.com/github/Zabaluna/Probability-theory-and-statistics/blob/main/%D0%94%D0%B7%D0%A2%D0%B5%D1%80%D0%92%D0%B5%D1%804.ipynb\" target=\"_parent\"><img src=\"https://colab.research.google.com/assets/colab-badge.svg\" alt=\"Open In Colab\"/></a>"
      ]
    },
    {
      "cell_type": "markdown",
      "source": [
        "# Урок 4. Непрерывная случайная величина"
      ],
      "metadata": {
        "id": "OMiruVsJ45g2"
      }
    },
    {
      "cell_type": "markdown",
      "source": [
        "# Задача 1.\n",
        "Случайная непрерывная величина A имеет равномерное распределение на\n",
        "промежутке (200, 800].\n",
        "Найдите ее среднее значение и дисперсию."
      ],
      "metadata": {
        "id": "zQ6JNevW5JoS"
      }
    },
    {
      "cell_type": "markdown",
      "source": [
        "M(x) = (a+b)/2\n",
        "\n",
        "\n",
        "D (x) = (b-a)^/12"
      ],
      "metadata": {
        "id": "xMDW8A9laYzf"
      }
    },
    {
      "cell_type": "code",
      "execution_count": 5,
      "metadata": {
        "colab": {
          "base_uri": "https://localhost:8080/"
        },
        "id": "UOY0znth4xiN",
        "outputId": "ce2e0b66-aedc-4ae1-9f73-e3d44e4bc235"
      },
      "outputs": [
        {
          "output_type": "stream",
          "name": "stdout",
          "text": [
            "M(X) - среднее значение = 500.0\n",
            "D(X) - дисперсия = 30000.0\n"
          ]
        }
      ],
      "source": [
        "print( f'M(X) - среднее значение = {(800 + 200) / 2}')\n",
        "print( f'D(X) - дисперсия = {(800 - 200)**2 / 12}' )"
      ]
    },
    {
      "cell_type": "markdown",
      "source": [
        "# Задача 2. \n",
        "О случайной непрерывной равномерно распределенной величине B известно, что ее\n",
        "дисперсия равна 0.2.\n",
        "Можно ли найти правую границу величины B и ее среднее значение зная, что левая\n",
        "граница равна 0.5?\n",
        "Если да, найдите ее."
      ],
      "metadata": {
        "id": "Wv9vi1jx5bYV"
      }
    },
    {
      "cell_type": "markdown",
      "source": [
        "\n",
        "\n",
        "D (x) = (b-a)^/12   --->   0,2 = (0,5-a)^12   ---> \n",
        "\n",
        "\n",
        "a = (b + D*12)^0.5\n",
        "\n",
        "a = ( 0.5 + ( 0.2 * 12 )^0.5\n",
        "\n",
        "M(x) = (a+b)/2"
      ],
      "metadata": {
        "id": "OCntQO3dcjQp"
      }
    },
    {
      "cell_type": "code",
      "source": [
        "print( f' D(x) = ( b - a )**2 / 12 --->  правaя граница будет равна  = { ( 0.5 + ( 0.2 * 12 )**0.5 ):.4f}' )\n",
        "print( f' M(X) = ( b + a ) / 2 --->  среднее значение  == {( ( 0.5 + ( 0.2 * 12 )**0.5 ) + 0.5 ) / 2:.4f}' )"
      ],
      "metadata": {
        "colab": {
          "base_uri": "https://localhost:8080/"
        },
        "id": "180l8YRl50FH",
        "outputId": "3a40bf8b-7862-4730-c5fb-3a7002e31eeb"
      },
      "execution_count": 5,
      "outputs": [
        {
          "output_type": "stream",
          "name": "stdout",
          "text": [
            " D(x) = ( b - a )**2 / 12 --->  правaя граница будет равна  = 2.0492\n",
            " M(X) = ( b + a ) / 2 --->  среднее значение  == 1.2746\n"
          ]
        }
      ]
    },
    {
      "cell_type": "markdown",
      "source": [
        "# Задача 3. \n",
        "Непрерывная случайная величина X распределена нормально и задана плотностью\n",
        "распределения\n",
        "f(x) = (1 / (4 * sqrt(2pi))) * exp((-(x+2)**2) / 32)\n",
        "Найдите:\n",
        "\n",
        "а). M(X)\n",
        "\n",
        "б). D(X)\n",
        "\n",
        "в). std(X) (среднее квадратичное отклонение)"
      ],
      "metadata": {
        "id": "7YWcHGHW5blF"
      }
    },
    {
      "cell_type": "markdown",
      "source": [
        "$f(x) = \\frac{1}{4\\cdot \\sqrt{2\\pi}}\\cdot e^{-\\frac{(x + 2)^2}{32}}$  "
      ],
      "metadata": {
        "id": "uXg-vWijfZ4U"
      }
    },
    {
      "cell_type": "code",
      "source": [
        "print( f'M(X) = {-(2)}' )\n",
        "print( f'D(X) = { ( 32 / 2 ) }' )\n",
        "print( f'std(X) = { ( 32 / 2 )**0.5:.0f}' )"
      ],
      "metadata": {
        "colab": {
          "base_uri": "https://localhost:8080/"
        },
        "id": "-ctbt8705033",
        "outputId": "1c8fdeaf-9e2e-44b0-ee2f-25fbef5812b7"
      },
      "execution_count": 7,
      "outputs": [
        {
          "output_type": "stream",
          "name": "stdout",
          "text": [
            "M(X) = -2\n",
            "D(X) = 16.0\n",
            "std(X) = 4\n"
          ]
        }
      ]
    },
    {
      "cell_type": "markdown",
      "source": [
        "# Задача 4.\n",
        " Рост взрослого населения города X имеет нормальное распределение, причем, средний рост равен 174 см, а среднее квадратическое отклонение равно 8 см. посчитайте, какова вероятность того, что случайным образом выбранный взрослый человек имеет рост:\n",
        "1. больше 182 см?   \n",
        "                 1 - 182\n",
        "2. больше 190 см?             \n",
        "                 1 - 190\n",
        "3. от 166 см до 190 см?\n",
        "                 190 - 166\n",
        "4. от 166 см до 182 см?\n",
        "                 182 - 166\n",
        "5. от 158 см до 190 см?\n",
        "                 190 - 158\n",
        "6. не выше 150 см или не ниже 190 см?\n",
        "                 1 - 190 + 150\n",
        "7. не выше 150 см или не ниже 198 см?\n",
        "                1 - 198 + 166\n",
        "8. ниже 166 см?\n",
        "                 166  \n",
        "Задачу можно решить двумя способами: без использования сторонних библиотек (numpy, scipy, pandas и пр.), а затем проверить себя с помощью встроенных функций"
      ],
      "metadata": {
        "id": "dweOLQxd5buV"
      }
    },
    {
      "cell_type": "markdown",
      "source": [
        "$X \\sim N(174, 64)$  \n",
        "$\\sigma = 8$  \n",
        "$P(-\\sigma < X < \\sigma) = 68$%  \n",
        "$P(-2\\sigma < X < 2\\sigma) = 95.4$%  \n",
        "$P(-3\\sigma < X < 3\\sigma) = 99.72$%  "
      ],
      "metadata": {
        "id": "xx20LWa6kYB5"
      }
    },
    {
      "cell_type": "code",
      "source": [
        "from scipy import stats\n",
        "print(f'Вероятность того, что рост больше 182 см  = { ( ( 1 - stats.norm.cdf( 182, loc=174, scale=8 ) ) * 100 ):.2f}%')\n",
        "print(f'Вероятность того, что рост больше 190 см = { ( ( 1 - stats.norm.cdf( 190, loc=174, scale=8 ) ) * 100 ):.2f}%' )\n",
        "\n",
        "print(f'Вероятность того, что рост от 166 см до 190 см = { ( ( stats.norm.cdf( 190, loc=174, scale=8 ) - stats.norm.cdf( 166, loc=174, scale=8 ) ) * 100 ):.2f}%' )\n",
        "print(f'Вероятность того, что рост от 166 см до 182 см = { ( ( stats.norm.cdf( 182, loc=174, scale=8 ) - stats.norm.cdf( 166, loc=174, scale=8 ) ) * 100 ):.2f}%')\n",
        "print(f'Вероятность того, что рост от 158 см до 190 см = { ( ( stats.norm.cdf( 190, loc=174, scale=8 ) - stats.norm.cdf( 158, loc=174, scale=8 ) ) * 100 ):.2f}%' )\n",
        "\n",
        "print(f'Вероятность того, что рост не выше 150 см или не ниже 190 см = { ( ( 1 - stats.norm.cdf( 190, loc=174, scale=8 ) + stats.norm.cdf( 150, loc=174, scale=8 ) ) * 100 ):.2f}%' )\n",
        "print(f'Вероятность того, что рост не выше 150 см или не ниже 198 см = { ( ( 1 - stats.norm.cdf( 198, loc=174, scale=8 ) + stats.norm.cdf( 150, loc=174, scale=8 ) ) * 100 ):.2f}%' )\n",
        "\n",
        "print(f'Вероятность того, что рост ниже 166 см = { ( ( stats.norm.cdf( 166, loc=174, scale=8 ) ) * 100 ):.2f}%' )\n"
      ],
      "metadata": {
        "colab": {
          "base_uri": "https://localhost:8080/"
        },
        "id": "NHKBqkgc51zA",
        "outputId": "8d28d887-54e1-47ec-8772-d69df9ffe968"
      },
      "execution_count": 1,
      "outputs": [
        {
          "output_type": "stream",
          "name": "stdout",
          "text": [
            "Вероятность того, что рост больше 182 см  = 15.87%\n",
            "Вероятность того, что рост больше 190 см = 2.28%\n",
            "Вероятность того, что рост от 166 см до 190 см = 81.86%\n",
            "Вероятность того, что рост от 166 см до 182 см = 68.27%\n",
            "Вероятность того, что рост от 158 см до 190 см = 95.45%\n",
            "Вероятность того, что рост не выше 150 см или не ниже 190 см = 2.41%\n",
            "Вероятность того, что рост не выше 150 см или не ниже 198 см = 0.27%\n",
            "Вероятность того, что рост ниже 166 см = 15.87%\n"
          ]
        }
      ]
    },
    {
      "cell_type": "markdown",
      "source": [
        "# Задача 5. \n",
        "На сколько сигм (средних квадратичных отклонений) отклоняется рост человека,\n",
        "равный 190 см, от\n",
        "математического ожидания роста в популяции, в которой M(X) = 178 см и D(X) = 25 кв.см?"
      ],
      "metadata": {
        "id": "5CD0BDmt5b7-"
      }
    },
    {
      "cell_type": "markdown",
      "source": [
        "std(x) = sqrt(d(x)) среднеквадратическое отклонение\n",
        "\n",
        "$Z = \\frac{x - \\mu}{\\sigma}$ отклонение роста ( среднее квадратическое отклонение)"
      ],
      "metadata": {
        "id": "44mfzzQnbnS_"
      }
    },
    {
      "cell_type": "code",
      "source": [
        "\n",
        "print( f'Отклонение роста Z(x) происходит на = { ( (190 - 178) / 25**0.5 ):.2f} сигм от роста 190 см' )"
      ],
      "metadata": {
        "colab": {
          "base_uri": "https://localhost:8080/"
        },
        "id": "2Q-khNMm57lB",
        "outputId": "e4e4af37-76ea-4760-c276-734fdbb56320"
      },
      "execution_count": 4,
      "outputs": [
        {
          "output_type": "stream",
          "name": "stdout",
          "text": [
            "Отклонение роста Z(x) происходит на = 2.40 сигм от роста 190 см\n"
          ]
        }
      ]
    }
  ]
}