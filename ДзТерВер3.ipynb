{
  "nbformat": 4,
  "nbformat_minor": 0,
  "metadata": {
    "colab": {
      "provenance": [],
      "authorship_tag": "ABX9TyNiij2cZ/0jK75URX8DSegW",
      "include_colab_link": true
    },
    "kernelspec": {
      "name": "python3",
      "display_name": "Python 3"
    },
    "language_info": {
      "name": "python"
    }
  },
  "cells": [
    {
      "cell_type": "markdown",
      "metadata": {
        "id": "view-in-github",
        "colab_type": "text"
      },
      "source": [
        "<a href=\"https://colab.research.google.com/github/Zabaluna/Probability-theory-and-statistics/blob/main/%D0%94%D0%B7%D0%A2%D0%B5%D1%80%D0%92%D0%B5%D1%803.ipynb\" target=\"_parent\"><img src=\"https://colab.research.google.com/assets/colab-badge.svg\" alt=\"Open In Colab\"/></a>"
      ]
    },
    {
      "cell_type": "markdown",
      "source": [
        "# Урок 3. EDA (exploratory data analysis) или Разведочный анализ"
      ],
      "metadata": {
        "id": "fyVtiTJPO-_Q"
      }
    },
    {
      "cell_type": "code",
      "execution_count": 4,
      "metadata": {
        "id": "eAw0ca78gIS_"
      },
      "outputs": [],
      "source": [
        "from math import *\n",
        "from sympy import *\n",
        "from sympy.plotting import plot\n",
        "import numpy as np\n",
        "import pandas as pd\n",
        "from scipy import *\n",
        "from matplotlib import *\n",
        "from matplotlib import pyplot as plt\n",
        "from sklearn import *\n"
      ]
    },
    {
      "cell_type": "code",
      "source": [
        "from math import factorial, e\n",
        "def combination( n: int, k: int ) -> float:\n",
        "    return int( factorial( n ) / ( factorial( k ) * factorial( n - k ) ) ) \n",
        "\n",
        "def puasson( l, m ):\n",
        "  return ( l**m / (factorial( m ) ) * e**( -l ) ) \n",
        "\n",
        "def bernulli( n, k, p ):\n",
        "  return ( factorial( n ) / ( factorial( k ) * ( factorial( n - k ) ) ) * p**k * ( 1-p )**( n - k ) )\n"
      ],
      "metadata": {
        "id": "qMTuqKHcOhJ2"
      },
      "execution_count": 5,
      "outputs": []
    },
    {
      "cell_type": "markdown",
      "source": [
        "# Задача 1\n",
        "Даны значения зарплат из выборки выпускников: 100, 80, 75, 77, 89, 33, 45, 25, 65, 17, 30, 24, 57, 55, 70, 75, 65, 84, 90, 150. Посчитать (желательно без использования статистических методов наподобие std, var, mean) среднее арифметическое, среднее квадратичное отклонение, смещенную и несмещенную оценки дисперсий для данной выборки."
      ],
      "metadata": {
        "id": "_yLkyrJfPHPN"
      }
    },
    {
      "cell_type": "markdown",
      "source": [
        "Создаем массив из наших чисел и считаем среднее арифметическое: np.mean(x) = sum(x) / len(x)"
      ],
      "metadata": {
        "id": "yRerw0vyQHlP"
      }
    },
    {
      "cell_type": "code",
      "source": [
        "x = np.array([100, 80, 75, 77, 89, 33, 45, 25, 65, 17, 30, 24, 57, 55, 70, 75, 65, 84, 90, 150])\n",
        "\n",
        "print( f'Среднее арифметическое = {np.mean( x ):.2f}' )\n"
      ],
      "metadata": {
        "colab": {
          "base_uri": "https://localhost:8080/"
        },
        "id": "NYstC5v1jSnV",
        "outputId": "9064af0d-4a3b-4671-f6f6-82f643ae780a"
      },
      "execution_count": 8,
      "outputs": [
        {
          "output_type": "stream",
          "name": "stdout",
          "text": [
            "Среднее арифметическое = 65.30\n"
          ]
        }
      ]
    },
    {
      "cell_type": "markdown",
      "source": [
        "Ищем среднее квадратическое отклонение: ( sum([ ( n - sum( x) / len( x ) )^2 for n in x ]) / len(x) )^0.5\"\n",
        "Смещенную и несмещенную дисперсию \n",
        "\n",
        "ddof = 1 - степень свободы для несмещенной дисперсии"
      ],
      "metadata": {
        "id": "rX_GVT72UFbj"
      }
    },
    {
      "cell_type": "code",
      "source": [
        "print( f'Среднее квадратичное отклонение = {np.std( x ):.2f}' )\n",
        "print( f'Cмещенная Дисперсия = {np.var( x ):.2f}' )           \n",
        "print( f'Несмещенная Дисперсия = {np.var( x, ddof=1 ):.2f}' )  "
      ],
      "metadata": {
        "colab": {
          "base_uri": "https://localhost:8080/"
        },
        "id": "oNazGhiQTZm_",
        "outputId": "c586fbc4-8041-421a-b59c-f72ce107ced9"
      },
      "execution_count": 10,
      "outputs": [
        {
          "output_type": "stream",
          "name": "stdout",
          "text": [
            "Среднее квадратичное отклонение = 30.82\n",
            "Cмещенная Дисперсия = 950.11\n",
            " Несмещенная Дисперсия = 1000.12\n"
          ]
        }
      ]
    },
    {
      "cell_type": "markdown",
      "source": [
        "# Задача 2\n",
        "В первом ящике находится 8 мячей, из которых 5 - белые. Во втором ящике - 12 мячей, из которых 5 белых. Из первого ящика вытаскивают случайным образом два мяча, из второго - 4. Какова вероятность того, что 3 мяча белые?"
      ],
      "metadata": {
        "id": "a-bPE28_Wpdc"
      }
    },
    {
      "cell_type": "markdown",
      "source": [
        "P=$ \\frac{C^2_3}{C^2_8} * \\frac{C^1_7 * C^3_5}{C^4_{12}} + \\frac{C^1_3 * C^1_5}{C^2_8} * \\frac{C^2_7 * C^2_5}{C^4_{12}} + \\frac{C^2_5}{C^2_8} * \\frac{C^3_7 * C^1_5}{C^4_{12}} $"
      ],
      "metadata": {
        "id": "REsFGl4EWsfc"
      }
    },
    {
      "cell_type": "code",
      "source": [
        "var1 = ((comb(3, 2) / comb(8, 2)) * ((comb(7, 1) * comb(5, 3)) / comb(12, 4)))\n",
        "var2 = (((comb(3, 1) * comb(5, 1)) / comb(8, 2)) * ((comb(7, 2) * comb(5, 2)) / comb(12, 4)))\n",
        "var3 = ((comb(5, 2) / comb(8, 2)) * ((comb(7, 3) * comb(5, 1)) / comb(12, 4)))\n",
        "p = var1+var2+var3\n",
        "print(f'Вероятность того, что три мяча окажутся белыми: {p:.3f}')"
      ],
      "metadata": {
        "colab": {
          "base_uri": "https://localhost:8080/"
        },
        "id": "yqw06ZQkW4bj",
        "outputId": "d4dd73bf-b57d-46f4-af81-d1a31dd68258"
      },
      "execution_count": 21,
      "outputs": [
        {
          "output_type": "stream",
          "name": "stdout",
          "text": [
            "Вероятность того, что три мяча окажутся белыми: 0.369\n"
          ]
        }
      ]
    },
    {
      "cell_type": "markdown",
      "source": [
        "# Задача 3 \n",
        "На соревновании по биатлону один из трех спортсменов стреляет и попадает в мишень. Вероятность попадания для первого спортсмена равна 0.9, для второго — 0.8, для третьего — 0.6. Найти вероятность того, что выстрел произведен: a). первым спортсменом б). вторым спортсменом в). третьим спортсменом."
      ],
      "metadata": {
        "id": "q7b5_rXITXJd"
      }
    },
    {
      "cell_type": "markdown",
      "source": [
        "p1 = 0.9 \n",
        "p2 = 0.8 \n",
        "p3 = 0.6 \n",
        "p/a = 1/3"
      ],
      "metadata": {
        "id": "ngBdKSBNcNYi"
      }
    },
    {
      "cell_type": "code",
      "source": [
        "p1 = 0.9 \n",
        "p2 = 0.8 \n",
        "p3 = 0.6 \n",
        "p_a = 1/3\n",
        "print( f'Вероятность, что выстрелил 1-й = {(p1*p_a)/(p1*p_a+p2*p_a+p3*p_a)*100:.2f}%' )\n",
        "print( f'Вероятность, что выстрелил 2-й = {(p2*p_a)/(p1*p_a+p2*p_a+p3*p_a)*100:.2f}%' )\n",
        "print( f'Вероятность, что выстрелил 2-й = {(p3*p_a)/(p1*p_a+p2*p_a+p3*p_a)*100:.2f}%' )"
      ],
      "metadata": {
        "colab": {
          "base_uri": "https://localhost:8080/"
        },
        "id": "g10OU9DqcGwC",
        "outputId": "14881345-0fc3-4cb3-f1fa-1f043b3b8ae9"
      },
      "execution_count": 19,
      "outputs": [
        {
          "output_type": "stream",
          "name": "stdout",
          "text": [
            "Вероятность, что выстрелил 1-й = 39.13%\n",
            "Вероятность, что выстрелил 2-й = 34.78%\n",
            "Вероятность, что выстрелил 2-й = 26.09%\n"
          ]
        }
      ]
    },
    {
      "cell_type": "markdown",
      "source": [
        "# Задача 4\n",
        "В университет на факультеты A и B поступило равное количество студентов, а на факультет C студентов поступило столько же, сколько на A и B вместе. Вероятность того, что студент факультета A сдаст первую сессию, равна 0.8. Для студента факультета B эта вероятность равна 0.7, а для студента факультета C - 0.9. Студент сдал первую сессию. Какова вероятность, что он учится: a). на факультете A б). на факультете B в). на факультете C?"
      ],
      "metadata": {
        "id": "ZyvLhEWVegEY"
      }
    },
    {
      "cell_type": "code",
      "source": [
        "a = 0.25\n",
        "b = 0.25\n",
        "c = 0.50\n",
        "p1 = 0.8\n",
        "p2 = 0.7\n",
        "p3 = 0.9\n",
        "print( f' Вероятность, что учится на факульте A = { ( a * p1 / ( p1 * a + p2 * b + p3 * c ) )*100:.2f}%' )\n",
        "print( f' Вероятность, что учится на факульте B = { ( b * p2 / ( p1 * a + p2 * b + p3 * c ) )*100:.2f}%' )\n",
        "print( f' Вероятность, что учится на факульте С = { ( c * p3 / ( p1 * a + p2 * b + p3 * c ) )*100:.2f}%' )"
      ],
      "metadata": {
        "colab": {
          "base_uri": "https://localhost:8080/"
        },
        "id": "OPBaAoOueryb",
        "outputId": "8957ff1e-38f4-46f4-81b4-485821a05dfd"
      },
      "execution_count": 20,
      "outputs": [
        {
          "output_type": "stream",
          "name": "stdout",
          "text": [
            " Вероятность, что учится на факульте A = 24.24%\n",
            " Вероятность, что учится на факульте B = 21.21%\n",
            " Вероятность, что учится на факульте С = 54.55%\n"
          ]
        }
      ]
    },
    {
      "cell_type": "markdown",
      "source": [
        "# Задача 5\n",
        "Устройство состоит из трех деталей. Для первой детали вероятность выйти из строя в первый месяц равна 0.1, для второй - 0.2, для третьей - 0.25. Какова вероятность того, что в первый месяц выйдут из строя: а). все детали б). только две детали в). хотя бы одна деталь г). от одной до двух деталей?"
      ],
      "metadata": {
        "id": "c-JcGynBfQEv"
      }
    },
    {
      "cell_type": "code",
      "source": [
        "p1 = 0.10\n",
        "p2 = 0.20\n",
        "p3 = 0.25\n",
        "\n",
        "a = p1 * p2 * p3\n",
        "b = p1 * p2         * ( 1 - p3 ) + p1         * ( 1 - p2 ) * p3         + ( 1 - p1 ) * p2         * p3\n",
        "c = p1 * ( 1 - p2 ) * ( 1 - p3 ) + ( 1 - p1 ) * p2         * ( 1 - p3 ) + ( 1 - p1 ) * ( 1 - p2 ) * p3\n",
        "d = b + c\n",
        "\n",
        "e = 1 - ( ( 1 - p1 ) * ( 1 - p2 ) * ( 1 - p3 ) )\n",
        "\n",
        "print( f'Вероятность, что все       = {a*100:.2f}%' )\n",
        "print( f'Вероятность, что 2-е       = {b*100:.2f}%' )\n",
        "print( f'Вероятность, что 1-а       = {c*100:.2f}%' )\n",
        "print( f'Вероятность, что хотя бы 1 = {e*100:.2f}%' )\n",
        "print( f'Вероятность, что от 1 до 2 = {d*100:.2f}%' )"
      ],
      "metadata": {
        "colab": {
          "base_uri": "https://localhost:8080/"
        },
        "id": "HlnMbZAAfXTY",
        "outputId": "35a7be3b-39fc-43f6-e653-55f1eded74e9"
      },
      "execution_count": 24,
      "outputs": [
        {
          "output_type": "stream",
          "name": "stdout",
          "text": [
            "Вероятность, что все       = 0.50%\n",
            "Вероятность, что 2-е       = 8.00%\n",
            "Вероятность, что 1-а       = 37.50%\n",
            "Вероятность, что хотя бы 1 = 46.00%\n",
            "Вероятность, что от 1 до 2 = 45.50%\n"
          ]
        }
      ]
    }
  ]
}